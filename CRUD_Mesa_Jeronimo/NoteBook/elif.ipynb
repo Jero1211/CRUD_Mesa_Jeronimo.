{
 "cells": [
  {
   "cell_type": "markdown",
   "metadata": {},
   "source": [
    "## Programa para:\n",
    "\n",
    "Lo  que hace \n"
   ]
  },
  {
   "cell_type": "code",
   "execution_count": null,
   "metadata": {},
   "outputs": [],
   "source": [
    "while True:\n",
    "    # Solicitar la edad al usuario\n",
    "    edad_input = input(\"Por favor, ingresa tu edad (o escribe 'salir' para terminar): \")\n",
    "    \n",
    "    # Opción para salir del bucle\n",
    "    if edad_input.lower() == 'salir':\n",
    "        print(\"Programa terminado.\")\n",
    "        break\n",
    "    \n",
    "    try:\n",
    "        # Convertir la entrada a un número entero\n",
    "        edad = int(edad_input)\n",
    "\n",
    "        # Determinar la categoría según la edad\n",
    "        if edad < 18:\n",
    "            print(\"Eres menor de edad.\")\n",
    "        elif 18 <= edad < 65:\n",
    "            print(\"Eres adulto.\")\n",
    "        else:\n",
    "            print(\"Eres de la tercera edad.\")\n",
    "    except ValueError:\n",
    "        print(\"Por favor, ingresa un número válido para la edad.\")"
   ]
  },
  {
   "cell_type": "markdown",
   "metadata": {},
   "source": [
    "# Explicacion de terminos empleados dentro del programa \n",
    " \n",
    "## While True\n",
    "\n",
    "Utilizamos el condicional \"while True\" para que se cree un bucle y el código se repita hasta que la persona pida salir."
   ]
  },
  {
   "cell_type": "markdown",
   "metadata": {},
   "source": [
    "## if\n",
    "Utilizamos el condicional \"if\" para que la persona en primera instancia pueda salir del código, después lo utilizamos para definir si una variable es menor de 18 diga que es menor de edad si da una edad entre un rango de 18 y 65 dirá que la persona es mayor de edad y si da una edad mayor a 65 nos dirá que la persona es de la mayor edad.\n"
   ]
  },
  {
   "cell_type": "markdown",
   "metadata": {},
   "source": [
    "## Try y except\n",
    "\n",
    "Lo que hacen estas dos funciones es correr el programa y buscar los errores, por ejemplo si la persona ingresa palabras lo que va a hacer el código es que va a pedirle que ingrese por favor un número válido. "
   ]
  },
  {
   "cell_type": "markdown",
   "metadata": {},
   "source": [
    "## elif\n",
    "Se utiliza para agregar múltiples condiciones en una estructura condicional. Permite comprobar varias condiciones en una secuencia de forma ordenada."
   ]
  },
  {
   "cell_type": "markdown",
   "metadata": {},
   "source": [
    "## else\n",
    "\n",
    "Lo que hace el else es que si no se cumple la funcion if y elif imprimir lo que hay en el else.\n"
   ]
  }
 ],
 "metadata": {
  "language_info": {
   "name": "python"
  }
 },
 "nbformat": 4,
 "nbformat_minor": 2
}
